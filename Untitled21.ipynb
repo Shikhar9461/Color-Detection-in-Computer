{
  "nbformat": 4,
  "nbformat_minor": 0,
  "metadata": {
    "colab": {
      "provenance": [],
      "authorship_tag": "ABX9TyMFTVoE75nbfImKWaQTewOz",
      "include_colab_link": true
    },
    "kernelspec": {
      "name": "python3",
      "display_name": "Python 3"
    },
    "language_info": {
      "name": "python"
    }
  },
  "cells": [
    {
      "cell_type": "markdown",
      "metadata": {
        "id": "view-in-github",
        "colab_type": "text"
      },
      "source": [
        "<a href=\"https://colab.research.google.com/github/Shikhar9461/Color-Detection-in-Computer/blob/main/Untitled21.ipynb\" target=\"_parent\"><img src=\"https://colab.research.google.com/assets/colab-badge.svg\" alt=\"Open In Colab\"/></a>"
      ]
    },
    {
      "cell_type": "code",
      "execution_count": 1,
      "metadata": {
        "id": "FEG7JpQ6V7Wa"
      },
      "outputs": [],
      "source": [
        "import cv2\n",
        "import pandas as pd"
      ]
    },
    {
      "cell_type": "code",
      "source": [
        "def int(x):\n",
        "try:\n",
        "y = int(x)\n",
        "except:\n",
        "y = 0\n",
        "return y\n",
        "# Reading image with opencv\n",
        "img = cv2.imread(img_path)\n",
        "# declaring global variables (are used later on)\n",
        "clicked = False\n",
        "r = g = b = xpos = ypos = 0\n",
        "# Reading csv file with pandas and giving names to each column\n",
        "index = [\"color\", \"color_name\", \"hex\", \"R\", \"G\", \"B\"]\n",
        "csv = pd.read_csv('Colors-for-CD.csv', names=index, header=None)\n",
        "# function to calculate minimum distance from all colors and get the most matching\n",
        "color\n",
        "def getColorName(R, G, B):\n",
        "minimum = 10000\n",
        "for i in range(len(csv)):\n",
        "d = abs(R - int(csv.loc[i, \"R\"])) + abs(G - int(csv.loc[i, \"G\"])) + abs(B -\n",
        "int(csv.loc[i, \"B\"]))\n",
        "if (d <= minimum):\n",
        "minimum = d\n",
        "cname = csv.loc[i, \"color_name\"]\n",
        "return cname\n",
        "# function to get x,y coordinates of mouse double click\n",
        "def draw_function(event, x, y, flags, param):\n",
        "if event == cv2.EVENT_LBUTTONDBLCLK:\n",
        "global b, g, r, xpos, ypos, clicked\n",
        "clicked = True\n",
        "xpos = x\n",
        "ypos = y\n",
        "b, g, r = img[y, x]\n",
        "b = int(b)\n",
        "g = int(g)\n",
        "r = int(r)\n",
        "cv2.namedWindow('image')\n",
        "cv2.setMouseCallback('image', draw_function)\n",
        "while (1):\n",
        "cv2.imshow(\"image\", img)\n",
        "if (clicked):\n",
        "# cv2.rectangle(image, startpoint, endpoint, color, thickness) -1\n",
        "thickness fills rectangle entirely\n",
        "cv2.rectangle(img, (20, 20), (750, 60), (b, g, r), -1)\n",
        "# Creating text string to display ( Color name and RGB values )\n",
        "text = getColorName(r, g, b) + ' R=' + str(r) + ' G=' + str(g) + ' B=' +\n",
        "str(b)\n",
        "# cv2.putText(img,text,start,font(0-7), fontScale, color, thickness,\n",
        "lineType, (optional bottomLeft bool) )\n",
        "cv2.putText(img, text, (50, 50), 2, 0.8, (255, 255, 255), 2,\n",
        "cv2.LINE_AA)\n",
        "# For very light colours we will display text in black colour\n",
        "if (r + g + b >= 600):\n",
        "cv2.putText(img, text, (50, 50), 2, 0.8, (0, 0, 0), 2, cv2.LINE_AA)\n",
        "clicked = False\n",
        "# Break the loop when user hits 'esc' key\n",
        "if cv2.waitKey(20) & 0xFF == 27:\n",
        "break\n",
        "cv2.destroyAllWindows()"
      ],
      "metadata": {
        "id": "8x1lVn6DWLQ1"
      },
      "execution_count": null,
      "outputs": []
    }
  ]
}